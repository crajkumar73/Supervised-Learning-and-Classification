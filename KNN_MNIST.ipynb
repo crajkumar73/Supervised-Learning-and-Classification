{
 "cells": [
  {
   "cell_type": "code",
   "execution_count": 148,
   "id": "a207d0d4",
   "metadata": {},
   "outputs": [],
   "source": [
    "#Load packages, including KNeighborsClassifier\n",
    "\n",
    "import numpy as np\n",
    "import pandas as pd\n",
    "import pprint\n",
    "from sklearn.datasets import load_digits\n",
    "from sklearn.neighbors import KNeighborsClassifier\n",
    "from sklearn.metrics import confusion_matrix\n",
    "from sklearn.metrics import classification_report\n",
    "from sklearn.model_selection import train_test_split\n",
    "import matplotlib.pyplot as plt\n",
    "from math import sqrt\n",
    "from sklearn.metrics import roc_auc_score\n",
    "\n",
    "\n"
   ]
  },
  {
   "cell_type": "code",
   "execution_count": 149,
   "id": "1c36b6dc",
   "metadata": {},
   "outputs": [
    {
     "name": "stdout",
     "output_type": "stream",
     "text": [
      "(1797, 64)\n"
     ]
    }
   ],
   "source": [
    "#Assign values to array\n",
    "\n",
    "mnist = load_digits()\n",
    "print(mnist.data.shape)\n",
    "\n",
    "b = np.array(mnist.data)\n"
   ]
  },
  {
   "cell_type": "code",
   "execution_count": 150,
   "id": "1e2d7333",
   "metadata": {},
   "outputs": [
    {
     "name": "stdout",
     "output_type": "stream",
     "text": [
      "[50.42816673 46.86149806 53.07541804 ... 47.9895822  48.83646179\n",
      " 52.16320542]\n"
     ]
    },
    {
     "data": {
      "text/plain": [
       "array([ 100,   97, 1244, 1777,   24,  473,    4,   64, 1788, 1198, 1767,\n",
       "       1691,  507, 1171,  497,  817, 1254,  863, 1267, 1351,  297, 1278,\n",
       "        454,  124,   41, 1387,  909,  380, 1011,  410,   14, 1408,  496,\n",
       "       1731, 1398,  919, 1257, 1754, 1791,  887, 1735, 1397, 1778, 1456,\n",
       "       1137,  390,  486, 1291,  427,  247, 1764,  970,  353,  367, 1539,\n",
       "        714, 1328, 1609,  194, 1161, 1681, 1355, 1384,  483,  900, 1502,\n",
       "        929, 1225,  450,  154,  660,  733,  366,  790, 1221,  510, 1374,\n",
       "       1001,  840, 1573,  144,  650, 1268,  966,  239, 1708,  111, 1671,\n",
       "        701,  250,  228,   68, 1311, 1483, 1569, 1053, 1651,  670, 1301,\n",
       "       1645], dtype=int64)"
      ]
     },
     "execution_count": 150,
     "metadata": {},
     "output_type": "execute_result"
    }
   ],
   "source": [
    "# Calculated distances of a randon test element [100] from all other elements.  \n",
    "distances = np.linalg.norm(b - b[100], axis=1)\n",
    "print (distances)\n",
    "\n",
    "#Assume k=100 for experimental purposes\n",
    "k = 100\n",
    "\n",
    "#Find list of IDs of elements nearest (neighbors) to the test element.\n",
    "nearest_neighbor_ids = distances.argsort()[:k]\n",
    "nearest_neighbor_ids\n"
   ]
  },
  {
   "cell_type": "code",
   "execution_count": 151,
   "id": "1cdbfc04",
   "metadata": {},
   "outputs": [
    {
     "name": "stdout",
     "output_type": "stream",
     "text": [
      "List of neighbor elements:  [4 4 4 4 4 4 4 4 4 4 4 4 4 4 4 4 4 4 4 4 4 4 4 4 4 4 4 4 4 4 4 4 4 4 4 4 4\n",
      " 4 4 4 4 4 4 4 4 4 4 4 4 4 4 4 4 4 4 4 4 6 4 4 4 4 4 4 4 4 4 4 4 4 4 4 4 4\n",
      " 4 4 4 4 4 0 4 4 4 4 4 4 4 4 0 4 4 4 4 4 6 4 4 4 4 6]\n",
      "Count of occurrence of each digit within the k nearest neighbor:  [ 2  0  0  0 95  0  3]\n",
      "Most popular digit:  4\n",
      "Test element is therefore:  4\n"
     ]
    }
   ],
   "source": [
    "#Display the values of elements nearest (neighbors) to the test element.\n",
    "\n",
    "nearest_neighbor_rings = b[nearest_neighbor_ids]\n",
    "nearest_neighbor_rings\n",
    "print(\"List of neighbor elements: \" , mnist.target[nearest_neighbor_ids])\n",
    "\n",
    "# Count of occurrence of each digit within the k nearest neighbor\n",
    "counts = np.bincount(mnist.target[nearest_neighbor_ids])\n",
    "print (\"Count of occurrence of each digit within the k nearest neighbor: \", counts)\n",
    "\n",
    "# Identify test element as the digit voted as most popular in the set of the k nearest neighbors.\n",
    "print(\"Most popular digit: \", np.argmax(counts))\n",
    "\n",
    "# Classify the test element accordingly (i.e. based on the popular vote).\n",
    "print(\"Test element is therefore: \", np.argmax(counts))"
   ]
  },
  {
   "cell_type": "code",
   "execution_count": 152,
   "id": "08461143",
   "metadata": {},
   "outputs": [
    {
     "name": "stdout",
     "output_type": "stream",
     "text": [
      "training data points: 1347\n",
      "testing data points: 450\n"
     ]
    }
   ],
   "source": [
    "# Split data into training and test datasets\n",
    "\n",
    "trainData,testData,trainLabel,testLabel = train_test_split(np.array(mnist.data),mnist.target,test_size=0.25,random_state=42)\n",
    "\n",
    "print(\"training data points: {}\".format(len(trainLabel)))\n",
    "print(\"testing data points: {}\".format(len(testData)))"
   ]
  },
  {
   "cell_type": "code",
   "execution_count": 153,
   "id": "5e40b6bf",
   "metadata": {},
   "outputs": [
    {
     "name": "stdout",
     "output_type": "stream",
     "text": [
      "k=1, accuracy=100.00%\n",
      "k=3, accuracy=99.26%\n",
      "k=5, accuracy=99.26%\n",
      "k=7, accuracy=99.26%\n",
      "k=9, accuracy=99.26%\n",
      "k=11, accuracy=99.26%\n",
      "k=13, accuracy=99.26%\n",
      "k=15, accuracy=99.26%\n",
      "k=17, accuracy=99.26%\n",
      "k=19, accuracy=98.52%\n",
      "k=21, accuracy=99.26%\n",
      "k=23, accuracy=98.52%\n",
      "k=25, accuracy=98.52%\n",
      "k=27, accuracy=98.52%\n",
      "k=29, accuracy=98.52%\n"
     ]
    }
   ],
   "source": [
    "#Identify k value with best accuracy\n",
    "\n",
    "kVals = np.arange(1,30,2)\n",
    "error_rates = []\n",
    "\n",
    "for k in kVals:\n",
    "    \n",
    "    model = KNeighborsClassifier(n_neighbors=k)\n",
    "    model.fit(trainData,trainLabel)\n",
    " \n",
    "    # evaluate the model and update the accuracies list\n",
    "    score = model.score(valData, valLabel)\n",
    "    print(\"k=%d, accuracy=%.2f%%\" % (k, score * 100))\n",
    "\n",
    "    "
   ]
  },
  {
   "cell_type": "code",
   "execution_count": 154,
   "id": "abcac326",
   "metadata": {},
   "outputs": [
    {
     "name": "stdout",
     "output_type": "stream",
     "text": [
      "              precision    recall  f1-score   support\n",
      "\n",
      "           0       1.00      1.00      1.00        43\n",
      "           1       0.97      1.00      0.99        37\n",
      "           2       1.00      1.00      1.00        38\n",
      "           3       0.98      1.00      0.99        46\n",
      "           4       0.98      1.00      0.99        55\n",
      "           5       0.98      1.00      0.99        59\n",
      "           6       1.00      1.00      1.00        45\n",
      "           7       1.00      0.98      0.99        41\n",
      "           8       0.97      0.97      0.97        38\n",
      "           9       0.98      0.92      0.95        48\n",
      "\n",
      "    accuracy                           0.99       450\n",
      "   macro avg       0.99      0.99      0.99       450\n",
      "weighted avg       0.99      0.99      0.99       450\n",
      "\n"
     ]
    }
   ],
   "source": [
    "# Create model and run prediction on test data\n",
    "\n",
    "model = KNeighborsClassifier(n_neighbors=3)\n",
    "model.fit(trainData,trainLabel)\n",
    "predictions = model.predict(testData)\n",
    "\n",
    "# print classification report\n",
    "\n",
    "print(classification_report(testLabel,predictions))"
   ]
  },
  {
   "cell_type": "code",
   "execution_count": 156,
   "id": "3ef4a1d0",
   "metadata": {},
   "outputs": [
    {
     "name": "stdout",
     "output_type": "stream",
     "text": [
      "Confusion matrix\n",
      "[[43  0  0  0  0  0  0  0  0  0]\n",
      " [ 0 37  0  0  0  0  0  0  0  0]\n",
      " [ 0  0 38  0  0  0  0  0  0  0]\n",
      " [ 0  0  0 46  0  0  0  0  0  0]\n",
      " [ 0  0  0  0 55  0  0  0  0  0]\n",
      " [ 0  0  0  0  0 59  0  0  0  0]\n",
      " [ 0  0  0  0  0  0 45  0  0  0]\n",
      " [ 0  0  0  0  0  0  0 40  0  1]\n",
      " [ 0  1  0  0  0  0  0  0 37  0]\n",
      " [ 0  0  0  1  1  1  0  0  1 44]]\n"
     ]
    }
   ],
   "source": [
    "#Print confusion matrix\n",
    "\n",
    "print (\"Confusion matrix\")\n",
    "print(confusion_matrix(testLabel,predictions))\n"
   ]
  },
  {
   "cell_type": "code",
   "execution_count": 157,
   "id": "fd5b4ebd",
   "metadata": {},
   "outputs": [
    {
     "name": "stdout",
     "output_type": "stream",
     "text": [
      "Predicted as : 6\n"
     ]
    },
    {
     "data": {
      "image/png": "[encoded data removed]",
      "text/plain": [
       "<Figure size 432x288 with 1 Axes>"
      ]
     },
     "metadata": {
      "needs_background": "light"
     },
     "output_type": "display_data"
    },
    {
     "name": "stdout",
     "output_type": "stream",
     "text": [
      "Predicted as : 6\n"
     ]
    },
    {
     "data": {
      "image/png": "[encoded data removed]",
      "text/plain": [
       "<Figure size 432x288 with 1 Axes>"
      ]
     },
     "metadata": {
      "needs_background": "light"
     },
     "output_type": "display_data"
    },
    {
     "name": "stdout",
     "output_type": "stream",
     "text": [
      "Predicted as : 3\n"
     ]
    },
    {
     "data": {
      "image/png": "[encoded data removed]",
      "text/plain": [
       "<Figure size 432x288 with 1 Axes>"
      ]
     },
     "metadata": {
      "needs_background": "light"
     },
     "output_type": "display_data"
    },
    {
     "name": "stdout",
     "output_type": "stream",
     "text": [
      "Predicted as : 5\n"
     ]
    },
    {
     "data": {
      "image/png": "[encoded data removed]",
      "text/plain": [
       "<Figure size 432x288 with 1 Axes>"
      ]
     },
     "metadata": {
      "needs_background": "light"
     },
     "output_type": "display_data"
    },
    {
     "name": "stdout",
     "output_type": "stream",
     "text": [
      "Predicted as : 8\n"
     ]
    },
    {
     "data": {
      "image/png": "[encoded data removed]",
      "text/plain": [
       "<Figure size 432x288 with 1 Axes>"
      ]
     },
     "metadata": {
      "needs_background": "light"
     },
     "output_type": "display_data"
    }
   ],
   "source": [
    "#Generate predictions on some random test elements\n",
    "\n",
    "for i in np.random.randint(0, high=len(testLabel), size=(5,)):\n",
    "         # grab the image and classify it\n",
    "         image = testData[i]\n",
    "         prediction = model.predict([image])[0]\n",
    "        \n",
    "         # show the prediction\n",
    "         \n",
    "         imgdata = np.array(image, dtype='float')\n",
    "         pixels = imgdata.reshape((8,8))\n",
    "         plt.imshow(pixels,cmap='gray')\n",
    "         \n",
    "         print(\"Predicted as : {}\".format(prediction))\n",
    "         plt.show()\n",
    "\n",
    "        \n"
   ]
  },
  {
   "cell_type": "code",
   "execution_count": null,
   "id": "38fff4fe",
   "metadata": {},
   "outputs": [],
   "source": []
  }
 ],
 "metadata": {
  "kernelspec": {
   "display_name": "Python 3",
   "language": "python",
   "name": "python3"
  },
  "language_info": {
   "codemirror_mode": {
    "name": "ipython",
    "version": 3
   },
   "file_extension": ".py",
   "mimetype": "text/x-python",
   "name": "python",
   "nbconvert_exporter": "python",
   "pygments_lexer": "ipython3",
   "version": "3.8.8"
  }
 },
 "nbformat": 4,
 "nbformat_minor": 5
}
